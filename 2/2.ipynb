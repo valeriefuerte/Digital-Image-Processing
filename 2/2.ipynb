{
  "cells": [
    {
      "metadata": {
        "trusted": true
      },
      "cell_type": "code",
      "source": "import cv2\nimport numpy as np\n\nimg = cv2.imread('1.jpg',0)\nimg = cv2.medianBlur(img,5)\nresult = cv2.cvtColor(img,cv2.COLOR_GRAY2BGR)\ncircles = cv2.HoughCircles(img,cv2.HOUGH_GRADIENT,1,20, param1=50,param2=30,minRadius=0,maxRadius=0)\ncircles = np.uint16(np.around(circles))\nfor i in circles[0,:]:\n    cv2.circle(result,(i[0],i[1]),i[2],(255,0,0),2)\n    cv2.circle(result,(i[0],i[1]),2,(255,0,0),3)\n\ncv2.imshow('Circles',result)\ncv2.imwrite(\"result.jpg\", result)\ncv2.waitKey(0)\ncv2.destroyAllWindows()\n",
      "execution_count": null,
      "outputs": []
    },
    {
      "metadata": {
        "trusted": true
      },
      "cell_type": "code",
      "source": "",
      "execution_count": null,
      "outputs": []
    }
  ],
  "metadata": {
    "kernelspec": {
      "name": "python3",
      "display_name": "Python 3",
      "language": "python"
    },
    "language_info": {
      "mimetype": "text/x-python",
      "nbconvert_exporter": "python",
      "name": "python",
      "file_extension": ".py",
      "version": "3.5.4",
      "pygments_lexer": "ipython3",
      "codemirror_mode": {
        "version": 3,
        "name": "ipython"
      }
    }
  },
  "nbformat": 4,
  "nbformat_minor": 1
}