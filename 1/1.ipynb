{
  "cells": [
    {
      "metadata": {
        "trusted": true
      },
      "cell_type": "code",
      "source": "import cv2\nimport numpy as np\n\n# загружаем изображение и отображаем его\nimage = cv2.imread(\"1.jpg\")\n\n# получим размеры изображения для поворота\n# и вычислим центр изображения\n(h, w) = image.shape[:2]\ncenter = (w / 2, h / 2)\n\nprint(\"Введите угол поворота изображения в градусах\")\nangle = int(input())%360\n# повернем изображение на заданный угол\nscale = 1.0\nM = cv2.getRotationMatrix2D(center, angle, 1.0)\n#найдем новые размеры изображения\ncos = np.abs(M[0, 0])\nsin = np.abs(M[0, 1])\ntg = sin / cos\n\nnew_w = int((h * sin) + (w * cos))\nnew_h = int((h * cos) + (w * sin))\n\nM[0, 2] += (new_w / 2) - center[0]\nM[1, 2] += (new_h / 2) - center[1]\n\nrotated = cv2.warpAffine(image, M, (new_w, new_h))\n#cv2.imshow(\"Rotated image\", rotated)\n#cv2.waitKey(0)\n\n#обрежем до прямоугольника\nh_sin = int(h * sin)\nh, w, _ = rotated.shape\nrow_1 = int((w - 2 * h_sin) * tg)\nrow_2 = h - int((w - 2 * h_sin) * tg)\ncol_1 = h_sin\ncol_2 = w - h_sin\nrectangle_image = rotated[min(row_1, row_2): max(row_1, row_2), min(col_1, col_2): max(col_1, col_2)]\n\n#cv2.imshow(\"Rectangle_image\", rectangle_image)\n#cv2.waitKey(0)\n\nprint(\"Введите коэффициент изменения длины\")\nk = float(input())\nprint(\"Введите признак используемой интерполяционной схемы ( 0 – нулевого порядка, 1 – первого порядка, 2- третьего порядка).\")\ni = int(input())\nif k > 0 and k <=1:\n    s = 1/k\n    dim = (int(w*k), int(h*s))\n\n    if i == 0:\n        result = cv2.resize(rectangle_image, dim, interpolation = cv2.INTER_NEAREST)\n    elif i == 1:\n        result = cv2.resize(rectangle_image, dim, interpolation = cv2.INTER_LINEAR)\n    elif i == 2:\n        result = cv2.resize(rectangle_image, dim, interpolation = cv2.INTER_AREA)\n    else:\n        print(\"Неправильно введен признак используемой интерполяционной схемы\")\n    cv2.imshow(\"Result image\", result)\n    cv2.waitKey(0)\n\n# запишем результирующее изображение на диск\n    cv2.imwrite(\"result.jpg\", result)\nelse:\n    print(\"Коэффициент должен быть больше 0 и меньше или равен 1.\")\n\ncv2.destroyAllWindows()\n",
      "execution_count": null,
      "outputs": []
    },
    {
      "metadata": {
        "trusted": true
      },
      "cell_type": "code",
      "source": "",
      "execution_count": null,
      "outputs": []
    }
  ],
  "metadata": {
    "kernelspec": {
      "name": "python3",
      "display_name": "Python 3",
      "language": "python"
    },
    "language_info": {
      "mimetype": "text/x-python",
      "nbconvert_exporter": "python",
      "name": "python",
      "file_extension": ".py",
      "version": "3.5.4",
      "pygments_lexer": "ipython3",
      "codemirror_mode": {
        "version": 3,
        "name": "ipython"
      }
    }
  },
  "nbformat": 4,
  "nbformat_minor": 1
}